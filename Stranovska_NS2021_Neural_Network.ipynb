{
 "cells": [
  {
   "cell_type": "code",
   "execution_count": 1,
   "metadata": {},
   "outputs": [],
   "source": [
    "# 1. Pick a dataset to work with. \n",
    "# 2. Clone / download the dataset\n",
    "# 3. Undesrand and describe what the dataset does and what is the goal which is necessary to accomplish\n",
    "# 4. Divide the data to the training and testing set. \n",
    "#    At start lets start with istribution 60-40%. This ratio should be tweaked with to find and optimal solution\n",
    "# 5. Pick right activation function and test which one is the most suitable for the problem in hand\n",
    "# 6. Do a proper visualization od the data we gathered while whole process:\n",
    "# 6a. Error\n",
    "# 6b. Accuracy\n",
    "# 6c. Weights (? - Depends on the neural network and it complexity)\n",
    "# 6d. Struncture of the network (either visual or the Keras print visualization of the neural network thru \"description\")"
   ]
  },
  {
   "cell_type": "markdown",
   "metadata": {},
   "source": [
    "## 1. Ziskavanie dát "
   ]
  },
  {
   "cell_type": "code",
   "execution_count": 43,
   "metadata": {},
   "outputs": [],
   "source": [
    "# importing keras library to work with the Neural Networks design\n",
    "import keras\n",
    "# importing padnas to work with files / csv-s containing the datasets\n",
    "import pandas as pd\n",
    "# importing numpy lib for faster manipulation with data supporting math \n",
    "import numpy as np\n",
    "\n",
    "# lets prepare both of them and  later we will see which one is better for visualization of the data\n",
    "import seaborn as sns\n",
    "import matplotlib as plt\n",
    "%matplotlib inline\n",
    "\n",
    "# importing the lib to help to split testing and training data which will be later used\n",
    "from sklearn.model_selection import train_test_split\n",
    "from sklearn import metrics\n",
    "import sklearn.preprocessing\n",
    "\n",
    "from keras.models import Model\n",
    "from keras.layers import Input, Dense, Concatenate, Reshape, Dropout\n",
    "from keras.layers.embeddings import Embedding\n",
    "\n",
    "from sklearn.model_selection import StratifiedKFold"
   ]
  },
  {
   "cell_type": "code",
   "execution_count": 33,
   "metadata": {},
   "outputs": [],
   "source": [
    "# načítanie datasetu do dataframe z cvs file\n",
    "# povodný súbor pochádza z https://www.kaggle.com/murderaccountability/homicide-reports\n",
    "# a obsahuje správy o vraždách za roky 1980 - 2014 z rôznych štátov USA\n",
    "dataset = pd.read_csv(\"database.csv\", dtype=str)\n",
    "                                             "
   ]
  },
  {
   "cell_type": "code",
   "execution_count": 34,
   "metadata": {
    "scrolled": true
   },
   "outputs": [
    {
     "data": {
      "text/html": [
       "<div>\n",
       "<style scoped>\n",
       "    .dataframe tbody tr th:only-of-type {\n",
       "        vertical-align: middle;\n",
       "    }\n",
       "\n",
       "    .dataframe tbody tr th {\n",
       "        vertical-align: top;\n",
       "    }\n",
       "\n",
       "    .dataframe thead th {\n",
       "        text-align: right;\n",
       "    }\n",
       "</style>\n",
       "<table border=\"1\" class=\"dataframe\">\n",
       "  <thead>\n",
       "    <tr style=\"text-align: right;\">\n",
       "      <th></th>\n",
       "      <th>Record ID</th>\n",
       "      <th>Agency Code</th>\n",
       "      <th>Agency Name</th>\n",
       "      <th>Agency Type</th>\n",
       "      <th>City</th>\n",
       "      <th>State</th>\n",
       "      <th>Year</th>\n",
       "      <th>Month</th>\n",
       "      <th>Incident</th>\n",
       "      <th>Crime Type</th>\n",
       "      <th>...</th>\n",
       "      <th>Victim Ethnicity</th>\n",
       "      <th>Perpetrator Sex</th>\n",
       "      <th>Perpetrator Age</th>\n",
       "      <th>Perpetrator Race</th>\n",
       "      <th>Perpetrator Ethnicity</th>\n",
       "      <th>Relationship</th>\n",
       "      <th>Weapon</th>\n",
       "      <th>Victim Count</th>\n",
       "      <th>Perpetrator Count</th>\n",
       "      <th>Record Source</th>\n",
       "    </tr>\n",
       "  </thead>\n",
       "  <tbody>\n",
       "    <tr>\n",
       "      <th>0</th>\n",
       "      <td>000001</td>\n",
       "      <td>AK00101</td>\n",
       "      <td>Anchorage</td>\n",
       "      <td>Municipal Police</td>\n",
       "      <td>Anchorage</td>\n",
       "      <td>Alaska</td>\n",
       "      <td>1980</td>\n",
       "      <td>January</td>\n",
       "      <td>1</td>\n",
       "      <td>Murder or Manslaughter</td>\n",
       "      <td>...</td>\n",
       "      <td>Unknown</td>\n",
       "      <td>Male</td>\n",
       "      <td>15</td>\n",
       "      <td>Native American/Alaska Native</td>\n",
       "      <td>Unknown</td>\n",
       "      <td>Acquaintance</td>\n",
       "      <td>Blunt Object</td>\n",
       "      <td>0</td>\n",
       "      <td>0</td>\n",
       "      <td>FBI</td>\n",
       "    </tr>\n",
       "    <tr>\n",
       "      <th>1</th>\n",
       "      <td>000002</td>\n",
       "      <td>AK00101</td>\n",
       "      <td>Anchorage</td>\n",
       "      <td>Municipal Police</td>\n",
       "      <td>Anchorage</td>\n",
       "      <td>Alaska</td>\n",
       "      <td>1980</td>\n",
       "      <td>March</td>\n",
       "      <td>1</td>\n",
       "      <td>Murder or Manslaughter</td>\n",
       "      <td>...</td>\n",
       "      <td>Unknown</td>\n",
       "      <td>Male</td>\n",
       "      <td>42</td>\n",
       "      <td>White</td>\n",
       "      <td>Unknown</td>\n",
       "      <td>Acquaintance</td>\n",
       "      <td>Strangulation</td>\n",
       "      <td>0</td>\n",
       "      <td>0</td>\n",
       "      <td>FBI</td>\n",
       "    </tr>\n",
       "    <tr>\n",
       "      <th>2</th>\n",
       "      <td>000003</td>\n",
       "      <td>AK00101</td>\n",
       "      <td>Anchorage</td>\n",
       "      <td>Municipal Police</td>\n",
       "      <td>Anchorage</td>\n",
       "      <td>Alaska</td>\n",
       "      <td>1980</td>\n",
       "      <td>March</td>\n",
       "      <td>2</td>\n",
       "      <td>Murder or Manslaughter</td>\n",
       "      <td>...</td>\n",
       "      <td>Unknown</td>\n",
       "      <td>Unknown</td>\n",
       "      <td>0</td>\n",
       "      <td>Unknown</td>\n",
       "      <td>Unknown</td>\n",
       "      <td>Unknown</td>\n",
       "      <td>Unknown</td>\n",
       "      <td>0</td>\n",
       "      <td>0</td>\n",
       "      <td>FBI</td>\n",
       "    </tr>\n",
       "    <tr>\n",
       "      <th>3</th>\n",
       "      <td>000004</td>\n",
       "      <td>AK00101</td>\n",
       "      <td>Anchorage</td>\n",
       "      <td>Municipal Police</td>\n",
       "      <td>Anchorage</td>\n",
       "      <td>Alaska</td>\n",
       "      <td>1980</td>\n",
       "      <td>April</td>\n",
       "      <td>1</td>\n",
       "      <td>Murder or Manslaughter</td>\n",
       "      <td>...</td>\n",
       "      <td>Unknown</td>\n",
       "      <td>Male</td>\n",
       "      <td>42</td>\n",
       "      <td>White</td>\n",
       "      <td>Unknown</td>\n",
       "      <td>Acquaintance</td>\n",
       "      <td>Strangulation</td>\n",
       "      <td>0</td>\n",
       "      <td>0</td>\n",
       "      <td>FBI</td>\n",
       "    </tr>\n",
       "    <tr>\n",
       "      <th>4</th>\n",
       "      <td>000005</td>\n",
       "      <td>AK00101</td>\n",
       "      <td>Anchorage</td>\n",
       "      <td>Municipal Police</td>\n",
       "      <td>Anchorage</td>\n",
       "      <td>Alaska</td>\n",
       "      <td>1980</td>\n",
       "      <td>April</td>\n",
       "      <td>2</td>\n",
       "      <td>Murder or Manslaughter</td>\n",
       "      <td>...</td>\n",
       "      <td>Unknown</td>\n",
       "      <td>Unknown</td>\n",
       "      <td>0</td>\n",
       "      <td>Unknown</td>\n",
       "      <td>Unknown</td>\n",
       "      <td>Unknown</td>\n",
       "      <td>Unknown</td>\n",
       "      <td>0</td>\n",
       "      <td>1</td>\n",
       "      <td>FBI</td>\n",
       "    </tr>\n",
       "  </tbody>\n",
       "</table>\n",
       "<p>5 rows × 24 columns</p>\n",
       "</div>"
      ],
      "text/plain": [
       "  Record ID Agency Code Agency Name       Agency Type       City   State  \\\n",
       "0    000001     AK00101   Anchorage  Municipal Police  Anchorage  Alaska   \n",
       "1    000002     AK00101   Anchorage  Municipal Police  Anchorage  Alaska   \n",
       "2    000003     AK00101   Anchorage  Municipal Police  Anchorage  Alaska   \n",
       "3    000004     AK00101   Anchorage  Municipal Police  Anchorage  Alaska   \n",
       "4    000005     AK00101   Anchorage  Municipal Police  Anchorage  Alaska   \n",
       "\n",
       "   Year    Month Incident              Crime Type  ... Victim Ethnicity  \\\n",
       "0  1980  January        1  Murder or Manslaughter  ...          Unknown   \n",
       "1  1980    March        1  Murder or Manslaughter  ...          Unknown   \n",
       "2  1980    March        2  Murder or Manslaughter  ...          Unknown   \n",
       "3  1980    April        1  Murder or Manslaughter  ...          Unknown   \n",
       "4  1980    April        2  Murder or Manslaughter  ...          Unknown   \n",
       "\n",
       "  Perpetrator Sex Perpetrator Age               Perpetrator Race  \\\n",
       "0            Male              15  Native American/Alaska Native   \n",
       "1            Male              42                          White   \n",
       "2         Unknown               0                        Unknown   \n",
       "3            Male              42                          White   \n",
       "4         Unknown               0                        Unknown   \n",
       "\n",
       "  Perpetrator Ethnicity  Relationship         Weapon Victim Count  \\\n",
       "0               Unknown  Acquaintance   Blunt Object            0   \n",
       "1               Unknown  Acquaintance  Strangulation            0   \n",
       "2               Unknown       Unknown        Unknown            0   \n",
       "3               Unknown  Acquaintance  Strangulation            0   \n",
       "4               Unknown       Unknown        Unknown            0   \n",
       "\n",
       "  Perpetrator Count Record Source  \n",
       "0                 0           FBI  \n",
       "1                 0           FBI  \n",
       "2                 0           FBI  \n",
       "3                 0           FBI  \n",
       "4                 1           FBI  \n",
       "\n",
       "[5 rows x 24 columns]"
      ]
     },
     "execution_count": 34,
     "metadata": {},
     "output_type": "execute_result"
    }
   ],
   "source": [
    "# zobrazte prvých 5 riadkov pre rýchly náhľad ako dáta vyzerajú\n",
    "dataset.head()"
   ]
  },
  {
   "cell_type": "markdown",
   "metadata": {},
   "source": [
    "### Vlastnosti datasetu\n",
    "<ol>\n",
    "    <li>Record ID: Číslo záznamu vraždy </li>\n",
    "    <li>Agency Code: Kódové meno zastupiteľstva, ktorá vyšetrovala daný zločin. </li>\n",
    "    <li>Agency Name: Plné meno zastupiteľstva, ktorá vyšetrovala daný zločin. </li>\n",
    "    <li>Agency Type: Typ zastupiteľstva: a. 'Municipal Police', b. 'County Police', c. 'State Police', d. 'Sheriff',\n",
    "       e. 'Special Police', f. 'Regional Police', g. 'Tribal Police'</li>\n",
    "    <li>City: Mesto, v ktorom sa stal zločin. </li>\n",
    "    <li>State: Štát, v ktotom sa zločin odohral. </li>\n",
    "    <li>Year: Rok spáchaného zločinu, z časového obdobia od roku 1980 - 2014 </li>\n",
    "    <li>Month: Mesiac, v ktorom sa zločin stal. Formát je January - December  </li>\n",
    "    <li>Incident: Číslená hodnota koľko zločinov sa stalo za dané obobie. Napríklad za Marec 1980 bola spáchaná vražda v Aliaške druhý krát. Hodnota bude 2. </li>\n",
    "    <li>Crime type: Klasfikuje čin do dvoch kategórií: 'Murder or Manslaughter' == 'Vražda alebo Zabitie' a 'Manslaughter by Negligence' == 'Zabitie z nedbanlivosti' </li>\n",
    "    <li>Crime Solved: Klasifikuje, či bol zločiť vyrierený. Bud 'Yes' == 'Áno' alebo 'No' == 'Nie' </li>\n",
    "    <li>Victim Sex: Klasifikácia pohlavia obete. Rozdelenie do 3 kategórií: a. 'Man' == 'Muž', b. 'Female' == 'Žena', c.'Unknown' == 'Neidentifikované' </li>\n",
    "    <li>Victim Age: Vek obete. </li>\n",
    "    <li>Victim Race: Krasifikácia posla rasy obete. Rozdenený do 5 kategórií. a.'Native American/Alaska Native' b. 'White' c.'Black' d. 'Unknown' e. 'Asian/Pacific Islander' </li>\n",
    "    <li>Victim Ethnicity: Kategorizácia etnickej príslušnosti do 3 kategórií. a. 'Unknown', b. 'Not Hispanic', c. 'Hispanic'  </li>\n",
    "    <li>Perpetrator Sex: Klasifikácia pohlavia páchteľa. Rozdelenie do 3 kategórií: a. 'Man' == 'Muž', b. 'Female' == 'Žena', c. 'Unknown' == 'Neidentifikované' </li>\n",
    "    <li>Perpetrator Age:  Vek páchateľa. Ak vek páchateľa je neznámy, záznam obsahuje nulu. </li>\n",
    "    <li>Perpetrator Race: Krasifikácia posla rasy páchateľa. Rozdenený do 5 kategórií. a.'Native American/Alaska Native' b. 'White' c.'Black' d. 'Unknown' e. 'Asian/Pacific Islander' </li>\n",
    "    <li>Perpetrator Ethnicity: Kategorizácia etnickej príslušnosti do 3 kategórií. a. 'Unknown', b. 'Not Hispanic', c. 'Hispanic' </li>\n",
    "    <li>Relationship: Klasifikikácia vsťahu medzi obeťou a páchateľom. 28 rôznych kategórií. </li>\n",
    "    <li>Weapon: Klasifikácia podľa zbrane, ktorá bola použitá pri čine. 17 rôznych kategórií. </li>\n",
    "    <li>Victim Count: Počet obetí. </li>\n",
    "    <li>Perpetrator Count: Počet páchateľov. </li>\n",
    "    <li>Record Source: Klasifikácia zdroja informácií. Informácie pochádzajú z 2 zdrojov: a. 'FBI' == 'Federal Bureau of Investigation' b. 'FIOA' == 'Freedom of Information Act' </li>\n",
    "</ol>"
   ]
  },
  {
   "cell_type": "code",
   "execution_count": null,
   "metadata": {},
   "outputs": [],
   "source": [
    "column we dont need:\n",
    "    Agency code\n",
    "    Victim Ethnicity\n",
    "    Recorn Source\n",
    "    "
   ]
  },
  {
   "cell_type": "code",
   "execution_count": 35,
   "metadata": {},
   "outputs": [
    {
     "data": {
      "text/plain": [
       "(638454, 24)"
      ]
     },
     "execution_count": 35,
     "metadata": {},
     "output_type": "execute_result"
    }
   ],
   "source": [
    "# tvar DataFrame (riadky, stĺpce)\n",
    "# porozumieť množstvu dát, s ktorými pracujeme\n",
    "# môžeme vidieť, že náš datasetmá tvar matice obsahujú 638 454 riadkov a 24 stlpcov\n",
    "dataset.shape"
   ]
  },
  {
   "cell_type": "code",
   "execution_count": 36,
   "metadata": {},
   "outputs": [
    {
     "name": "stdout",
     "output_type": "stream",
     "text": [
      "<class 'pandas.core.frame.DataFrame'>\n",
      "RangeIndex: 638454 entries, 0 to 638453\n",
      "Data columns (total 24 columns):\n",
      " #   Column                 Non-Null Count   Dtype \n",
      "---  ------                 --------------   ----- \n",
      " 0   Record ID              638454 non-null  object\n",
      " 1   Agency Code            638454 non-null  object\n",
      " 2   Agency Name            638454 non-null  object\n",
      " 3   Agency Type            638454 non-null  object\n",
      " 4   City                   638454 non-null  object\n",
      " 5   State                  638454 non-null  object\n",
      " 6   Year                   638454 non-null  object\n",
      " 7   Month                  638454 non-null  object\n",
      " 8   Incident               638454 non-null  object\n",
      " 9   Crime Type             638454 non-null  object\n",
      " 10  Crime Solved           638454 non-null  object\n",
      " 11  Victim Sex             638454 non-null  object\n",
      " 12  Victim Age             638454 non-null  object\n",
      " 13  Victim Race            638454 non-null  object\n",
      " 14  Victim Ethnicity       638454 non-null  object\n",
      " 15  Perpetrator Sex        638454 non-null  object\n",
      " 16  Perpetrator Age        638454 non-null  object\n",
      " 17  Perpetrator Race       638454 non-null  object\n",
      " 18  Perpetrator Ethnicity  638454 non-null  object\n",
      " 19  Relationship           638454 non-null  object\n",
      " 20  Weapon                 638454 non-null  object\n",
      " 21  Victim Count           638454 non-null  object\n",
      " 22  Perpetrator Count      638454 non-null  object\n",
      " 23  Record Source          638454 non-null  object\n",
      "dtypes: object(24)\n",
      "memory usage: 116.9+ MB\n"
     ]
    }
   ],
   "source": [
    "# popis dát\n",
    "# dôležitou informáciou je, že náš dataset je kompletný, tj neosasuje nenulove hodnoty \n",
    "dataset.info()"
   ]
  },
  {
   "cell_type": "code",
   "execution_count": 37,
   "metadata": {},
   "outputs": [
    {
     "data": {
      "text/plain": [
       "Record ID                0\n",
       "Agency Code              0\n",
       "Agency Name              0\n",
       "Agency Type              0\n",
       "City                     0\n",
       "State                    0\n",
       "Year                     0\n",
       "Month                    0\n",
       "Incident                 0\n",
       "Crime Type               0\n",
       "Crime Solved             0\n",
       "Victim Sex               0\n",
       "Victim Age               0\n",
       "Victim Race              0\n",
       "Victim Ethnicity         0\n",
       "Perpetrator Sex          0\n",
       "Perpetrator Age          0\n",
       "Perpetrator Race         0\n",
       "Perpetrator Ethnicity    0\n",
       "Relationship             0\n",
       "Weapon                   0\n",
       "Victim Count             0\n",
       "Perpetrator Count        0\n",
       "Record Source            0\n",
       "dtype: int64"
      ]
     },
     "execution_count": 37,
     "metadata": {},
     "output_type": "execute_result"
    }
   ],
   "source": [
    "# skontrolujte, či existujú nulové hodnoty\n",
    "dataset.isna().sum()"
   ]
  },
  {
   "cell_type": "code",
   "execution_count": null,
   "metadata": {},
   "outputs": [],
   "source": []
  },
  {
   "cell_type": "code",
   "execution_count": 40,
   "metadata": {},
   "outputs": [
    {
     "data": {
      "text/html": [
       "<div>\n",
       "<style scoped>\n",
       "    .dataframe tbody tr th:only-of-type {\n",
       "        vertical-align: middle;\n",
       "    }\n",
       "\n",
       "    .dataframe tbody tr th {\n",
       "        vertical-align: top;\n",
       "    }\n",
       "\n",
       "    .dataframe thead th {\n",
       "        text-align: right;\n",
       "    }\n",
       "</style>\n",
       "<table border=\"1\" class=\"dataframe\">\n",
       "  <thead>\n",
       "    <tr style=\"text-align: right;\">\n",
       "      <th></th>\n",
       "      <th>Record ID</th>\n",
       "      <th>Agency Code</th>\n",
       "      <th>Agency Name</th>\n",
       "      <th>Agency Type</th>\n",
       "      <th>City</th>\n",
       "      <th>State</th>\n",
       "      <th>Year</th>\n",
       "      <th>Month</th>\n",
       "      <th>Incident</th>\n",
       "      <th>Crime Type</th>\n",
       "      <th>...</th>\n",
       "      <th>Victim Ethnicity</th>\n",
       "      <th>Perpetrator Sex</th>\n",
       "      <th>Perpetrator Age</th>\n",
       "      <th>Perpetrator Race</th>\n",
       "      <th>Perpetrator Ethnicity</th>\n",
       "      <th>Relationship</th>\n",
       "      <th>Weapon</th>\n",
       "      <th>Victim Count</th>\n",
       "      <th>Perpetrator Count</th>\n",
       "      <th>Record Source</th>\n",
       "    </tr>\n",
       "  </thead>\n",
       "  <tbody>\n",
       "    <tr>\n",
       "      <th>count</th>\n",
       "      <td>638454</td>\n",
       "      <td>638454</td>\n",
       "      <td>638454</td>\n",
       "      <td>638454</td>\n",
       "      <td>638454</td>\n",
       "      <td>638454</td>\n",
       "      <td>638454</td>\n",
       "      <td>638454</td>\n",
       "      <td>638454</td>\n",
       "      <td>638454</td>\n",
       "      <td>...</td>\n",
       "      <td>638454</td>\n",
       "      <td>638454</td>\n",
       "      <td>638454</td>\n",
       "      <td>638454</td>\n",
       "      <td>638454</td>\n",
       "      <td>638454</td>\n",
       "      <td>638454</td>\n",
       "      <td>638454</td>\n",
       "      <td>638454</td>\n",
       "      <td>638454</td>\n",
       "    </tr>\n",
       "    <tr>\n",
       "      <th>unique</th>\n",
       "      <td>638454</td>\n",
       "      <td>12003</td>\n",
       "      <td>9216</td>\n",
       "      <td>7</td>\n",
       "      <td>1782</td>\n",
       "      <td>51</td>\n",
       "      <td>35</td>\n",
       "      <td>12</td>\n",
       "      <td>1000</td>\n",
       "      <td>2</td>\n",
       "      <td>...</td>\n",
       "      <td>3</td>\n",
       "      <td>3</td>\n",
       "      <td>101</td>\n",
       "      <td>5</td>\n",
       "      <td>3</td>\n",
       "      <td>28</td>\n",
       "      <td>16</td>\n",
       "      <td>11</td>\n",
       "      <td>11</td>\n",
       "      <td>2</td>\n",
       "    </tr>\n",
       "    <tr>\n",
       "      <th>top</th>\n",
       "      <td>178990</td>\n",
       "      <td>NY03030</td>\n",
       "      <td>New York</td>\n",
       "      <td>Municipal Police</td>\n",
       "      <td>Los Angeles</td>\n",
       "      <td>California</td>\n",
       "      <td>1993</td>\n",
       "      <td>July</td>\n",
       "      <td>1</td>\n",
       "      <td>Murder or Manslaughter</td>\n",
       "      <td>...</td>\n",
       "      <td>Unknown</td>\n",
       "      <td>Male</td>\n",
       "      <td>0</td>\n",
       "      <td>White</td>\n",
       "      <td>Unknown</td>\n",
       "      <td>Unknown</td>\n",
       "      <td>Handgun</td>\n",
       "      <td>0</td>\n",
       "      <td>0</td>\n",
       "      <td>FBI</td>\n",
       "    </tr>\n",
       "    <tr>\n",
       "      <th>freq</th>\n",
       "      <td>1</td>\n",
       "      <td>38416</td>\n",
       "      <td>38416</td>\n",
       "      <td>493026</td>\n",
       "      <td>44511</td>\n",
       "      <td>99783</td>\n",
       "      <td>24335</td>\n",
       "      <td>58696</td>\n",
       "      <td>265528</td>\n",
       "      <td>629338</td>\n",
       "      <td>...</td>\n",
       "      <td>368303</td>\n",
       "      <td>399541</td>\n",
       "      <td>216327</td>\n",
       "      <td>218243</td>\n",
       "      <td>446410</td>\n",
       "      <td>273013</td>\n",
       "      <td>317484</td>\n",
       "      <td>586059</td>\n",
       "      <td>558838</td>\n",
       "      <td>616647</td>\n",
       "    </tr>\n",
       "  </tbody>\n",
       "</table>\n",
       "<p>4 rows × 24 columns</p>\n",
       "</div>"
      ],
      "text/plain": [
       "       Record ID Agency Code Agency Name       Agency Type         City  \\\n",
       "count     638454      638454      638454            638454       638454   \n",
       "unique    638454       12003        9216                 7         1782   \n",
       "top       178990     NY03030    New York  Municipal Police  Los Angeles   \n",
       "freq           1       38416       38416            493026        44511   \n",
       "\n",
       "             State    Year   Month Incident              Crime Type  ...  \\\n",
       "count       638454  638454  638454   638454                  638454  ...   \n",
       "unique          51      35      12     1000                       2  ...   \n",
       "top     California    1993    July        1  Murder or Manslaughter  ...   \n",
       "freq         99783   24335   58696   265528                  629338  ...   \n",
       "\n",
       "       Victim Ethnicity Perpetrator Sex Perpetrator Age Perpetrator Race  \\\n",
       "count            638454          638454          638454           638454   \n",
       "unique                3               3             101                5   \n",
       "top             Unknown            Male               0            White   \n",
       "freq             368303          399541          216327           218243   \n",
       "\n",
       "       Perpetrator Ethnicity Relationship   Weapon Victim Count  \\\n",
       "count                 638454       638454   638454       638454   \n",
       "unique                     3           28       16           11   \n",
       "top                  Unknown      Unknown  Handgun            0   \n",
       "freq                  446410       273013   317484       586059   \n",
       "\n",
       "       Perpetrator Count Record Source  \n",
       "count             638454        638454  \n",
       "unique                11             2  \n",
       "top                    0           FBI  \n",
       "freq              558838        616647  \n",
       "\n",
       "[4 rows x 24 columns]"
      ]
     },
     "execution_count": 40,
     "metadata": {},
     "output_type": "execute_result"
    }
   ],
   "source": [
    "# vidíme, že máme unifirmný počet záznamov,\n",
    "# koľko jedinečných zázanmov existuje pre každú kategóriu\n",
    "# najčastejší výskyt\n",
    "# a frequencia výskytu\n",
    "dataset.describe()"
   ]
  },
  {
   "cell_type": "markdown",
   "metadata": {},
   "source": [
    "## 2. Pochopenie a Vizualizácia dát"
   ]
  },
  {
   "cell_type": "code",
   "execution_count": 44,
   "metadata": {},
   "outputs": [
    {
     "data": {
      "text/plain": [
       "<AxesSubplot:xlabel='Month', ylabel='count'>"
      ]
     },
     "execution_count": 44,
     "metadata": {},
     "output_type": "execute_result"
    },
    {
     "data": {
      "image/png": "[encoded data removed]",
      "text/plain": [
       "<Figure size 432x288 with 1 Axes>"
      ]
     },
     "metadata": {
      "needs_background": "light"
     },
     "output_type": "display_data"
    }
   ],
   "source": [
    "sns.countplot(x = 'Month', data = dataset)"
   ]
  },
  {
   "cell_type": "code",
   "execution_count": 57,
   "metadata": {},
   "outputs": [
    {
     "data": {
      "text/plain": [
       "<AxesSubplot:xlabel='Victim Sex', ylabel='count'>"
      ]
     },
     "execution_count": 57,
     "metadata": {},
     "output_type": "execute_result"
    },
    {
     "data": {
      "image/png": "[encoded data removed]",
      "text/plain": [
       "<Figure size 432x288 with 1 Axes>"
      ]
     },
     "metadata": {
      "needs_background": "light"
     },
     "output_type": "display_data"
    }
   ],
   "source": [
    "sns.countplot(x = 'Victim Sex', data = dataset)"
   ]
  },
  {
   "cell_type": "code",
   "execution_count": 58,
   "metadata": {},
   "outputs": [
    {
     "data": {
      "text/plain": [
       "<AxesSubplot:xlabel='Perpetrator Sex', ylabel='count'>"
      ]
     },
     "execution_count": 58,
     "metadata": {},
     "output_type": "execute_result"
    },
    {
     "data": {
      "image/png": "[encoded data removed]",
      "text/plain": [
       "<Figure size 432x288 with 1 Axes>"
      ]
     },
     "metadata": {
      "needs_background": "light"
     },
     "output_type": "display_data"
    }
   ],
   "source": [
    "sns.countplot(x = 'Perpetrator Sex', data = dataset)"
   ]
  },
  {
   "cell_type": "code",
   "execution_count": 60,
   "metadata": {},
   "outputs": [
    {
     "data": {
      "text/plain": [
       "<AxesSubplot:xlabel='Year', ylabel='count'>"
      ]
     },
     "execution_count": 60,
     "metadata": {},
     "output_type": "execute_result"
    },
    {
     "data": {
      "image/png": "[encoded data removed]",
      "text/plain": [
       "<Figure size 432x288 with 1 Axes>"
      ]
     },
     "metadata": {
      "needs_background": "light"
     },
     "output_type": "display_data"
    }
   ],
   "source": [
    "sns.countplot(x = 'Year', data = dataset)"
   ]
  },
  {
   "cell_type": "code",
   "execution_count": null,
   "metadata": {},
   "outputs": [],
   "source": [
    "#sns.boxplot(x=dataset['Perpetrator Age'])"
   ]
  },
  {
   "cell_type": "code",
   "execution_count": 56,
   "metadata": {
    "scrolled": true
   },
   "outputs": [
    {
     "data": {
      "text/plain": [
       "1993    24335\n",
       "1992    23793\n",
       "1994    23246\n",
       "1980    23092\n",
       "1991    22657\n",
       "1990    21246\n",
       "1981    21208\n",
       "1995    21179\n",
       "1982    20544\n",
       "1986    20125\n",
       "1989    19868\n",
       "1983    19653\n",
       "1996    18969\n",
       "1987    18783\n",
       "1988    18779\n",
       "1985    18386\n",
       "1984    18093\n",
       "1997    17794\n",
       "2007    17303\n",
       "2006    17275\n",
       "2005    16836\n",
       "2003    16512\n",
       "2002    16268\n",
       "2004    16233\n",
       "1998    16061\n",
       "2009    15840\n",
       "2001    15803\n",
       "2008    15595\n",
       "2010    15121\n",
       "2012    15033\n",
       "2011    14756\n",
       "2000    14671\n",
       "1999    14621\n",
       "2013    14445\n",
       "2014    14331\n",
       "Name: Year, dtype: int64"
      ]
     },
     "execution_count": 56,
     "metadata": {},
     "output_type": "execute_result"
    }
   ],
   "source": [
    "dataset['Year'].value_counts()"
   ]
  },
  {
   "cell_type": "code",
   "execution_count": null,
   "metadata": {},
   "outputs": [],
   "source": []
  },
  {
   "cell_type": "markdown",
   "metadata": {},
   "source": [
    "## 3. Konštrukcia modelu\n",
    "<ul>\n",
    "    <li> Špecifikácia vstupného tvaru </li>\n",
    "    <li> </li>\n",
    "    <li> </li>\n",
    "    <li> </li>\n",
    "</ul>"
   ]
  },
  {
   "cell_type": "markdown",
   "metadata": {},
   "source": [
    "## 4. Kompilácia modelu\n",
    "Pred trénovaním modelu je potreba konfigurovat učiaci sa proces, pomocou kompilačnej metódy. K tomu budeme potrebovať.\n",
    "<ul>\n",
    "    <li> Optimizér: </li>\n",
    "    <li> Loss function: </li>\n",
    "    <li> Zoznam metrík: V prípade kategorického modelu ako nášho je accuracy (presnosť) </li>\n",
    "    <li> </li>\n",
    "</ul>"
   ]
  },
  {
   "cell_type": "code",
   "execution_count": null,
   "metadata": {},
   "outputs": [],
   "source": [
    "model.compile()"
   ]
  },
  {
   "cell_type": "markdown",
   "metadata": {},
   "source": [
    "## 5. Trenovanie modelu"
   ]
  },
  {
   "cell_type": "markdown",
   "metadata": {},
   "source": [
    "## 6. Evaluacia modelu"
   ]
  },
  {
   "cell_type": "markdown",
   "metadata": {},
   "source": [
    "## 7. Test predikcie"
   ]
  },
  {
   "cell_type": "code",
   "execution_count": null,
   "metadata": {},
   "outputs": [],
   "source": []
  }
 ],
 "metadata": {
  "kernelspec": {
   "display_name": "Python 3",
   "language": "python",
   "name": "python3"
  }
 },
 "nbformat": 4,
 "nbformat_minor": 4
}
