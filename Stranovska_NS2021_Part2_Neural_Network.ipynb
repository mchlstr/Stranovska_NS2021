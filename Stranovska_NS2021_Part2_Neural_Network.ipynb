{
 "cells": [
  {
   "cell_type": "code",
   "execution_count": 1,
   "metadata": {},
   "outputs": [],
   "source": [
    "# 1. Pick a dataset to work with. \n",
    "# 2. Clone / download the dataset\n",
    "# 3. Undesrand and describe what the dataset does and what is the goal which is necessary to accomplish\n",
    "# 4. Divide the data to the training and testing set. \n",
    "#    At start lets start with istribution 60-40%. This ratio should be tweaked with to find and optimal solution\n",
    "# 5. Pick right activation function and test which one is the most suitable for the problem in hand\n",
    "# 6. Do a proper visualization od the data we gathered while whole process:\n",
    "# 6a. Error\n",
    "# 6b. Accuracy\n",
    "# 6c. Weights (? - Depends on the neural network and it complexity)\n",
    "# 6d. Struncture of the network (either visual or the Keras print visualization of the neural network thru \"description\")"
   ]
  },
  {
   "cell_type": "markdown",
   "metadata": {},
   "source": [
    "## 1. Ziskavanie dát "
   ]
  },
  {
   "cell_type": "code",
   "execution_count": 2,
   "metadata": {},
   "outputs": [
    {
     "name": "stdout",
     "output_type": "stream",
     "text": [
      "Populating the interactive namespace from numpy and matplotlib\n"
     ]
    }
   ],
   "source": [
    "# importing keras library to work with the Neural Networks design\n",
    "import keras\n",
    "# importing padnas to work with files / csv-s containing the datasets\n",
    "import pandas as pd\n",
    "# importing numpy lib for faster manipulation with data supporting math \n",
    "import numpy as np\n",
    "\n",
    "# lets prepare both of them and  later we will see which one is better for visualization of the data\n",
    "import seaborn as sns\n",
    "import matplotlib.pyplot as plt\n",
    "%matplotlib inline\n",
    "\n",
    "# importing the lib to help to split testing and training data which will be later used\n",
    "from sklearn.model_selection import train_test_split\n",
    "from sklearn import metrics\n",
    "import sklearn.preprocessing\n",
    "\n",
    "from keras.models import Model\n",
    "from keras.layers import Input, Dense, Concatenate, Reshape, Dropout\n",
    "from keras.layers.embeddings import Embedding\n",
    "\n",
    "from sklearn.preprocessing import StandardScaler, OneHotEncoder, LabelEncoder\n",
    "from sklearn.compose import make_column_transformer\n",
    "# nainportovanie z kniznice sklearn MaxAbsScaler, ktory transformuje prvky skalovanim jednotlivych prvkov na dany rozsah \n",
    "from sklearn.preprocessing import MaxAbsScaler\n",
    "\n",
    "from sklearn.linear_model import LogisticRegression\n",
    "from keras.utils import np_utils \n",
    "from keras.utils import to_categorical\n",
    "\n",
    "# nainportovanie z kniznice keras Sequential, ktory sa pouziva na vytvorenie modelu ucenia pri ktorom sa vytvaraju instancie\n",
    "# triedy Sequential a pridavaju/vytvaraju sa do nej vrstvy modelu\n",
    "from keras.models import Sequential \n",
    "# nainportovanie z kniznice keras Dense\n",
    "#pomocou Dense su definovane plne spojene vrstvy, kde ako prvy argument sa zadava pocet neuronov alebo uzlov vo vrstve a pomocou\n",
    "# aktivacneho argumentu urcit aktivacnu funkciu\n",
    "from keras.layers import Dense \n",
    "%matplotlib inline\n",
    "%pylab inline"
   ]
  },
  {
   "cell_type": "markdown",
   "metadata": {},
   "source": [
    "## Predpriprava dat:\n",
    "### pokracovanie s vybranym datasetom Cluster2_new_file_city_vs_incidents.csv"
   ]
  },
  {
   "cell_type": "code",
   "execution_count": 3,
   "metadata": {},
   "outputs": [],
   "source": [
    "# načítanie datasetu do dataframe z cvs file\n",
    "# povodný súbor pochádza z https://www.kaggle.com/murderaccountability/homicide-reports\n",
    "# a obsahuje správy o vraždách za roky 1990 - 2014 z rôznych štátov USA\n",
    "# pre lepsie pracovanie s datami a moznosti uploadovania na github sa velkost datasetu znizila o 10 rokov\n",
    "file = pd.read_csv(\"Cluster2_new_file_city_vs_incidents.csv\")\n",
    "                                             "
   ]
  },
  {
   "cell_type": "code",
   "execution_count": 4,
   "metadata": {
    "scrolled": true
   },
   "outputs": [
    {
     "data": {
      "text/html": [
       "<div>\n",
       "<style scoped>\n",
       "    .dataframe tbody tr th:only-of-type {\n",
       "        vertical-align: middle;\n",
       "    }\n",
       "\n",
       "    .dataframe tbody tr th {\n",
       "        vertical-align: top;\n",
       "    }\n",
       "\n",
       "    .dataframe thead th {\n",
       "        text-align: right;\n",
       "    }\n",
       "</style>\n",
       "<table border=\"1\" class=\"dataframe\">\n",
       "  <thead>\n",
       "    <tr style=\"text-align: right;\">\n",
       "      <th></th>\n",
       "      <th>Unnamed: 0</th>\n",
       "      <th>Crime Solved</th>\n",
       "      <th>Victim Sex</th>\n",
       "      <th>Victim Age</th>\n",
       "      <th>Victim Race</th>\n",
       "      <th>Victim Ethnicity</th>\n",
       "      <th>Perpetrator Sex</th>\n",
       "      <th>Perpetrator Age</th>\n",
       "      <th>Perpetrator Race</th>\n",
       "      <th>Perpetrator Ethnicity</th>\n",
       "      <th>Relationship</th>\n",
       "    </tr>\n",
       "  </thead>\n",
       "  <tbody>\n",
       "    <tr>\n",
       "      <th>0</th>\n",
       "      <td>0</td>\n",
       "      <td>Yes</td>\n",
       "      <td>Male</td>\n",
       "      <td>14</td>\n",
       "      <td>Native American/Alaska Native</td>\n",
       "      <td>Unknown</td>\n",
       "      <td>Male</td>\n",
       "      <td>15.0</td>\n",
       "      <td>Native American/Alaska Native</td>\n",
       "      <td>Unknown</td>\n",
       "      <td>Acquaintance</td>\n",
       "    </tr>\n",
       "    <tr>\n",
       "      <th>1</th>\n",
       "      <td>1</td>\n",
       "      <td>Yes</td>\n",
       "      <td>Male</td>\n",
       "      <td>43</td>\n",
       "      <td>White</td>\n",
       "      <td>Unknown</td>\n",
       "      <td>Male</td>\n",
       "      <td>42.0</td>\n",
       "      <td>White</td>\n",
       "      <td>Unknown</td>\n",
       "      <td>Acquaintance</td>\n",
       "    </tr>\n",
       "    <tr>\n",
       "      <th>2</th>\n",
       "      <td>2</td>\n",
       "      <td>No</td>\n",
       "      <td>Female</td>\n",
       "      <td>30</td>\n",
       "      <td>Native American/Alaska Native</td>\n",
       "      <td>Unknown</td>\n",
       "      <td>Unknown</td>\n",
       "      <td>0.0</td>\n",
       "      <td>Unknown</td>\n",
       "      <td>Unknown</td>\n",
       "      <td>Unknown</td>\n",
       "    </tr>\n",
       "    <tr>\n",
       "      <th>3</th>\n",
       "      <td>3</td>\n",
       "      <td>Yes</td>\n",
       "      <td>Male</td>\n",
       "      <td>43</td>\n",
       "      <td>White</td>\n",
       "      <td>Unknown</td>\n",
       "      <td>Male</td>\n",
       "      <td>42.0</td>\n",
       "      <td>White</td>\n",
       "      <td>Unknown</td>\n",
       "      <td>Acquaintance</td>\n",
       "    </tr>\n",
       "    <tr>\n",
       "      <th>4</th>\n",
       "      <td>4</td>\n",
       "      <td>No</td>\n",
       "      <td>Female</td>\n",
       "      <td>30</td>\n",
       "      <td>Native American/Alaska Native</td>\n",
       "      <td>Unknown</td>\n",
       "      <td>Unknown</td>\n",
       "      <td>0.0</td>\n",
       "      <td>Unknown</td>\n",
       "      <td>Unknown</td>\n",
       "      <td>Unknown</td>\n",
       "    </tr>\n",
       "  </tbody>\n",
       "</table>\n",
       "</div>"
      ],
      "text/plain": [
       "   Unnamed: 0 Crime Solved Victim Sex  Victim Age  \\\n",
       "0           0          Yes       Male          14   \n",
       "1           1          Yes       Male          43   \n",
       "2           2           No     Female          30   \n",
       "3           3          Yes       Male          43   \n",
       "4           4           No     Female          30   \n",
       "\n",
       "                     Victim Race Victim Ethnicity Perpetrator Sex  \\\n",
       "0  Native American/Alaska Native          Unknown            Male   \n",
       "1                          White          Unknown            Male   \n",
       "2  Native American/Alaska Native          Unknown         Unknown   \n",
       "3                          White          Unknown            Male   \n",
       "4  Native American/Alaska Native          Unknown         Unknown   \n",
       "\n",
       "   Perpetrator Age               Perpetrator Race Perpetrator Ethnicity  \\\n",
       "0             15.0  Native American/Alaska Native               Unknown   \n",
       "1             42.0                          White               Unknown   \n",
       "2              0.0                        Unknown               Unknown   \n",
       "3             42.0                          White               Unknown   \n",
       "4              0.0                        Unknown               Unknown   \n",
       "\n",
       "   Relationship  \n",
       "0  Acquaintance  \n",
       "1  Acquaintance  \n",
       "2       Unknown  \n",
       "3  Acquaintance  \n",
       "4       Unknown  "
      ]
     },
     "execution_count": 4,
     "metadata": {},
     "output_type": "execute_result"
    }
   ],
   "source": [
    "# zobrazte prvých 5 riadkov pre rýchly náhľad ako dáta vyzerajú\n",
    "file.head()"
   ]
  },
  {
   "cell_type": "markdown",
   "metadata": {},
   "source": [
    "### Vlastnosti datasetu\n",
    "<ol>\n",
    "    <li>Crime Solved: Klasifikuje, či bol zločiť vyrierený. Bud 'Yes' == 'Áno' alebo 'No' == 'Nie' </li>\n",
    "    <li>Victim Sex: Klasifikácia pohlavia obete. Rozdelenie do 3 kategórií: a. 'Man' == 'Muž', b. 'Female' == 'Žena', c.'Unknown' == 'Neidentifikované' </li>\n",
    "    <li>Victim Age: Vek obete. </li>\n",
    "    <li>Victim Race: Krasifikácia posla rasy obete. Rozdenený do 5 kategórií. a.'Native American/Alaska Native' b. 'White' c.'Black' d. 'Unknown' e. 'Asian/Pacific Islander' </li>\n",
    "    <li>Victim Ethnicity: Kategorizácia etnickej príslušnosti do 3 kategórií. a. 'Unknown', b. 'Not Hispanic', c. 'Hispanic'  </li>\n",
    "    <li>Perpetrator Sex: Klasifikácia pohlavia páchteľa. Rozdelenie do 3 kategórií: a. 'Man' == 'Muž', b. 'Female' == 'Žena', c. 'Unknown' == 'Neidentifikované' </li>\n",
    "    <li>Perpetrator Age:  Vek páchateľa. Ak vek páchateľa je neznámy, záznam obsahuje nulu. </li>\n",
    "    <li>Perpetrator Race: Krasifikácia posla rasy páchateľa. Rozdenený do 5 kategórií. a.'Native American/Alaska Native' b. 'White' c.'Black' d. 'Unknown' e. 'Asian/Pacific Islander' </li>\n",
    "    <li>Perpetrator Ethnicity: Kategorizácia etnickej príslušnosti do 3 kategórií. a. 'Unknown', b. 'Not Hispanic', c. 'Hispanic' </li>\n",
    "    <li>Relationship: Klasifikikácia vsťahu medzi obeťou a páchateľom. 28 rôznych kategórií. </li>\n",
    "   \n",
    "</ol>"
   ]
  },
  {
   "cell_type": "code",
   "execution_count": 5,
   "metadata": {},
   "outputs": [
    {
     "data": {
      "text/plain": [
       "(628198, 11)"
      ]
     },
     "execution_count": 5,
     "metadata": {},
     "output_type": "execute_result"
    }
   ],
   "source": [
    "# tvar DataFrame (riadky, stĺpce)\n",
    "# porozumieť množstvu dát, s ktorými pracujeme\n",
    "# môžeme vidieť, že náš datasetmá tvar matice obsahujú 638 454 riadkov a 24 stlpcov\n",
    "file.shape"
   ]
  },
  {
   "cell_type": "code",
   "execution_count": 6,
   "metadata": {},
   "outputs": [
    {
     "name": "stdout",
     "output_type": "stream",
     "text": [
      "<class 'pandas.core.frame.DataFrame'>\n",
      "RangeIndex: 628198 entries, 0 to 628197\n",
      "Data columns (total 11 columns):\n",
      " #   Column                 Non-Null Count   Dtype  \n",
      "---  ------                 --------------   -----  \n",
      " 0   Unnamed: 0             628198 non-null  int64  \n",
      " 1   Crime Solved           628198 non-null  object \n",
      " 2   Victim Sex             628198 non-null  object \n",
      " 3   Victim Age             628198 non-null  int64  \n",
      " 4   Victim Race            628198 non-null  object \n",
      " 5   Victim Ethnicity       628198 non-null  object \n",
      " 6   Perpetrator Sex        628198 non-null  object \n",
      " 7   Perpetrator Age        628198 non-null  float64\n",
      " 8   Perpetrator Race       628198 non-null  object \n",
      " 9   Perpetrator Ethnicity  628198 non-null  object \n",
      " 10  Relationship           628198 non-null  object \n",
      "dtypes: float64(1), int64(2), object(8)\n",
      "memory usage: 52.7+ MB\n"
     ]
    }
   ],
   "source": [
    "# popis dát\n",
    "# dôležitou informáciou je, že náš dataset je kompletný, tj neosasuje nenulove hodnoty \n",
    "file.info()"
   ]
  },
  {
   "cell_type": "code",
   "execution_count": 7,
   "metadata": {},
   "outputs": [
    {
     "data": {
      "text/plain": [
       "Unnamed: 0               0\n",
       "Crime Solved             0\n",
       "Victim Sex               0\n",
       "Victim Age               0\n",
       "Victim Race              0\n",
       "Victim Ethnicity         0\n",
       "Perpetrator Sex          0\n",
       "Perpetrator Age          0\n",
       "Perpetrator Race         0\n",
       "Perpetrator Ethnicity    0\n",
       "Relationship             0\n",
       "dtype: int64"
      ]
     },
     "execution_count": 7,
     "metadata": {},
     "output_type": "execute_result"
    }
   ],
   "source": [
    "# skontrolujte, či existujú nulové hodnoty\n",
    "file.isna().sum()"
   ]
  },
  {
   "cell_type": "code",
   "execution_count": 9,
   "metadata": {},
   "outputs": [
    {
     "data": {
      "text/html": [
       "<div>\n",
       "<style scoped>\n",
       "    .dataframe tbody tr th:only-of-type {\n",
       "        vertical-align: middle;\n",
       "    }\n",
       "\n",
       "    .dataframe tbody tr th {\n",
       "        vertical-align: top;\n",
       "    }\n",
       "\n",
       "    .dataframe thead th {\n",
       "        text-align: right;\n",
       "    }\n",
       "</style>\n",
       "<table border=\"1\" class=\"dataframe\">\n",
       "  <thead>\n",
       "    <tr style=\"text-align: right;\">\n",
       "      <th></th>\n",
       "      <th>Crime Solved</th>\n",
       "      <th>Victim Sex</th>\n",
       "      <th>Victim Age</th>\n",
       "      <th>Victim Race</th>\n",
       "      <th>Victim Ethnicity</th>\n",
       "      <th>Perpetrator Sex</th>\n",
       "      <th>Perpetrator Age</th>\n",
       "      <th>Perpetrator Race</th>\n",
       "      <th>Perpetrator Ethnicity</th>\n",
       "      <th>Relationship</th>\n",
       "    </tr>\n",
       "  </thead>\n",
       "  <tbody>\n",
       "    <tr>\n",
       "      <th>0</th>\n",
       "      <td>Yes</td>\n",
       "      <td>Male</td>\n",
       "      <td>14</td>\n",
       "      <td>Native American/Alaska Native</td>\n",
       "      <td>Unknown</td>\n",
       "      <td>Male</td>\n",
       "      <td>15.0</td>\n",
       "      <td>Native American/Alaska Native</td>\n",
       "      <td>Unknown</td>\n",
       "      <td>Acquaintance</td>\n",
       "    </tr>\n",
       "    <tr>\n",
       "      <th>1</th>\n",
       "      <td>Yes</td>\n",
       "      <td>Male</td>\n",
       "      <td>43</td>\n",
       "      <td>White</td>\n",
       "      <td>Unknown</td>\n",
       "      <td>Male</td>\n",
       "      <td>42.0</td>\n",
       "      <td>White</td>\n",
       "      <td>Unknown</td>\n",
       "      <td>Acquaintance</td>\n",
       "    </tr>\n",
       "    <tr>\n",
       "      <th>2</th>\n",
       "      <td>No</td>\n",
       "      <td>Female</td>\n",
       "      <td>30</td>\n",
       "      <td>Native American/Alaska Native</td>\n",
       "      <td>Unknown</td>\n",
       "      <td>Unknown</td>\n",
       "      <td>0.0</td>\n",
       "      <td>Unknown</td>\n",
       "      <td>Unknown</td>\n",
       "      <td>Unknown</td>\n",
       "    </tr>\n",
       "    <tr>\n",
       "      <th>3</th>\n",
       "      <td>Yes</td>\n",
       "      <td>Male</td>\n",
       "      <td>43</td>\n",
       "      <td>White</td>\n",
       "      <td>Unknown</td>\n",
       "      <td>Male</td>\n",
       "      <td>42.0</td>\n",
       "      <td>White</td>\n",
       "      <td>Unknown</td>\n",
       "      <td>Acquaintance</td>\n",
       "    </tr>\n",
       "    <tr>\n",
       "      <th>4</th>\n",
       "      <td>No</td>\n",
       "      <td>Female</td>\n",
       "      <td>30</td>\n",
       "      <td>Native American/Alaska Native</td>\n",
       "      <td>Unknown</td>\n",
       "      <td>Unknown</td>\n",
       "      <td>0.0</td>\n",
       "      <td>Unknown</td>\n",
       "      <td>Unknown</td>\n",
       "      <td>Unknown</td>\n",
       "    </tr>\n",
       "    <tr>\n",
       "      <th>...</th>\n",
       "      <td>...</td>\n",
       "      <td>...</td>\n",
       "      <td>...</td>\n",
       "      <td>...</td>\n",
       "      <td>...</td>\n",
       "      <td>...</td>\n",
       "      <td>...</td>\n",
       "      <td>...</td>\n",
       "      <td>...</td>\n",
       "      <td>...</td>\n",
       "    </tr>\n",
       "    <tr>\n",
       "      <th>628193</th>\n",
       "      <td>No</td>\n",
       "      <td>Male</td>\n",
       "      <td>30</td>\n",
       "      <td>White</td>\n",
       "      <td>Hispanic</td>\n",
       "      <td>Unknown</td>\n",
       "      <td>0.0</td>\n",
       "      <td>Unknown</td>\n",
       "      <td>Unknown</td>\n",
       "      <td>Unknown</td>\n",
       "    </tr>\n",
       "    <tr>\n",
       "      <th>628194</th>\n",
       "      <td>Yes</td>\n",
       "      <td>Male</td>\n",
       "      <td>62</td>\n",
       "      <td>White</td>\n",
       "      <td>Unknown</td>\n",
       "      <td>Male</td>\n",
       "      <td>57.0</td>\n",
       "      <td>White</td>\n",
       "      <td>Unknown</td>\n",
       "      <td>Acquaintance</td>\n",
       "    </tr>\n",
       "    <tr>\n",
       "      <th>628195</th>\n",
       "      <td>Yes</td>\n",
       "      <td>Female</td>\n",
       "      <td>0</td>\n",
       "      <td>Asian/Pacific Islander</td>\n",
       "      <td>Unknown</td>\n",
       "      <td>Female</td>\n",
       "      <td>22.0</td>\n",
       "      <td>Asian/Pacific Islander</td>\n",
       "      <td>Unknown</td>\n",
       "      <td>Daughter</td>\n",
       "    </tr>\n",
       "    <tr>\n",
       "      <th>628196</th>\n",
       "      <td>Yes</td>\n",
       "      <td>Male</td>\n",
       "      <td>55</td>\n",
       "      <td>White</td>\n",
       "      <td>Not Hispanic</td>\n",
       "      <td>Male</td>\n",
       "      <td>31.0</td>\n",
       "      <td>White</td>\n",
       "      <td>Not Hispanic</td>\n",
       "      <td>Stranger</td>\n",
       "    </tr>\n",
       "    <tr>\n",
       "      <th>628197</th>\n",
       "      <td>Yes</td>\n",
       "      <td>Female</td>\n",
       "      <td>0</td>\n",
       "      <td>White</td>\n",
       "      <td>Not Hispanic</td>\n",
       "      <td>Female</td>\n",
       "      <td>24.0</td>\n",
       "      <td>White</td>\n",
       "      <td>Not Hispanic</td>\n",
       "      <td>Daughter</td>\n",
       "    </tr>\n",
       "  </tbody>\n",
       "</table>\n",
       "<p>628198 rows × 10 columns</p>\n",
       "</div>"
      ],
      "text/plain": [
       "       Crime Solved Victim Sex  Victim Age                    Victim Race  \\\n",
       "0               Yes       Male          14  Native American/Alaska Native   \n",
       "1               Yes       Male          43                          White   \n",
       "2                No     Female          30  Native American/Alaska Native   \n",
       "3               Yes       Male          43                          White   \n",
       "4                No     Female          30  Native American/Alaska Native   \n",
       "...             ...        ...         ...                            ...   \n",
       "628193           No       Male          30                          White   \n",
       "628194          Yes       Male          62                          White   \n",
       "628195          Yes     Female           0         Asian/Pacific Islander   \n",
       "628196          Yes       Male          55                          White   \n",
       "628197          Yes     Female           0                          White   \n",
       "\n",
       "       Victim Ethnicity Perpetrator Sex  Perpetrator Age  \\\n",
       "0               Unknown            Male             15.0   \n",
       "1               Unknown            Male             42.0   \n",
       "2               Unknown         Unknown              0.0   \n",
       "3               Unknown            Male             42.0   \n",
       "4               Unknown         Unknown              0.0   \n",
       "...                 ...             ...              ...   \n",
       "628193         Hispanic         Unknown              0.0   \n",
       "628194          Unknown            Male             57.0   \n",
       "628195          Unknown          Female             22.0   \n",
       "628196     Not Hispanic            Male             31.0   \n",
       "628197     Not Hispanic          Female             24.0   \n",
       "\n",
       "                     Perpetrator Race Perpetrator Ethnicity  Relationship  \n",
       "0       Native American/Alaska Native               Unknown  Acquaintance  \n",
       "1                               White               Unknown  Acquaintance  \n",
       "2                             Unknown               Unknown       Unknown  \n",
       "3                               White               Unknown  Acquaintance  \n",
       "4                             Unknown               Unknown       Unknown  \n",
       "...                               ...                   ...           ...  \n",
       "628193                        Unknown               Unknown       Unknown  \n",
       "628194                          White               Unknown  Acquaintance  \n",
       "628195         Asian/Pacific Islander               Unknown      Daughter  \n",
       "628196                          White          Not Hispanic      Stranger  \n",
       "628197                          White          Not Hispanic      Daughter  \n",
       "\n",
       "[628198 rows x 10 columns]"
      ]
     },
     "execution_count": 9,
     "metadata": {},
     "output_type": "execute_result"
    }
   ],
   "source": [
    "# odstranymi prebitocny stlpek, ktory sa nam vytvoril pri preinxdexovani\n",
    "file.drop(labels='Unnamed: 0', axis=1)\n",
    "# pre lepsiu pracu si premenime typ stlpcov z object na categorical\n"
   ]
  },
  {
   "cell_type": "code",
   "execution_count": 10,
   "metadata": {},
   "outputs": [
    {
     "data": {
      "text/plain": [
       "Index(['Unnamed: 0', 'Crime Solved', 'Victim Sex', 'Victim Age', 'Victim Race',\n",
       "       'Victim Ethnicity', 'Perpetrator Sex', 'Perpetrator Age',\n",
       "       'Perpetrator Race', 'Perpetrator Ethnicity', 'Relationship'],\n",
       "      dtype='object')"
      ]
     },
     "execution_count": 10,
     "metadata": {},
     "output_type": "execute_result"
    }
   ],
   "source": [
    "file.columns"
   ]
  },
  {
   "cell_type": "code",
   "execution_count": 11,
   "metadata": {},
   "outputs": [],
   "source": [
    "# pre lepsiu pracu si premenime typ stlpcov z object na categorical\n",
    "\n",
    "file['Victim Sex'] = file['Victim Sex'].astype('category')\n",
    "file['Victim Race'] = file['Victim Race'].astype('category')\n",
    "file['Victim Ethnicity'] = file['Victim Ethnicity'].astype('category')\n",
    "file['Perpetrator Sex'] = file['Perpetrator Sex'].astype('category')\n",
    "file['Perpetrator Ethnicity'] = file['Perpetrator Ethnicity'].astype('category')\n",
    "file['Relationship'] = file['Relationship'].astype('category')\n",
    "\n",
    "file['Crime Solved'] = file['Crime Solved'].astype('category')"
   ]
  },
  {
   "cell_type": "code",
   "execution_count": 12,
   "metadata": {},
   "outputs": [],
   "source": [
    "# nainportovanie z kniznice keras np_utils a to_categorical\n",
    "# prepis do kategorickej premennej, prevedie cele cisla na binarnu maticu\n",
    "from keras.utils import np_utils \n",
    "from keras.utils import to_categorical\n",
    "from sklearn.preprocessing import OneHotEncoder\n"
   ]
  },
  {
   "cell_type": "code",
   "execution_count": 13,
   "metadata": {},
   "outputs": [],
   "source": [
    "label_encoder = LabelEncoder()\n",
    "ohe = OneHotEncoder(sparse=False)"
   ]
  },
  {
   "cell_type": "code",
   "execution_count": 14,
   "metadata": {},
   "outputs": [],
   "source": [
    "predictor = file.drop(labels = 'Crime Solved', axis = 1)\n",
    "#ako premennú, ktorú označujeme za cieľovú a teda chceme vedieť ci sa vyriesi pripad alebo nevyriesi\n",
    "target = file['Crime Solved']\n"
   ]
  },
  {
   "cell_type": "code",
   "execution_count": 15,
   "metadata": {},
   "outputs": [],
   "source": [
    "# kedze pracujeme s kategorickymi premennymi pre lepsie vysledky pouzijeme OneHotEncoder, \n",
    "# ktory nam vytvori dummy triedy a zabezpeci, ze vahy budu prerozdelene \"spravodlivo\"\n",
    "# keby bol pouzity iba LabelEncoder, pocitat bude prat hodnoty ako mensie alebo vacsie\n",
    "# https://www.youtube.com/watch?v=irHhDMbw3xo\n",
    "column_transform = make_column_transformer((OneHotEncoder(), ['Victim Sex', 'Victim Race',\n",
    "       'Victim Ethnicity', 'Perpetrator Sex',\n",
    "       'Perpetrator Race', 'Perpetrator Ethnicity', 'Relationship']), remainder='passthrough')\n",
    "# ohe = OneHotEncoder(categories=[list(data_working_with.drop(labels=['Crime Solved','Agency Name', 'City', 'State'], axis='columns').select_dtypes(include=['object']).columns)])\n",
    "predictor = column_transform.fit_transform(predictor)"
   ]
  },
  {
   "cell_type": "code",
   "execution_count": 16,
   "metadata": {},
   "outputs": [],
   "source": [
    "target = label_encoder.fit_transform(target)\n",
    "# podstate ten isty job ako sklearn OneHotEncoder\n",
    "target = np_utils.to_categorical(target)"
   ]
  },
  {
   "cell_type": "code",
   "execution_count": 17,
   "metadata": {},
   "outputs": [
    {
     "name": "stdout",
     "output_type": "stream",
     "text": [
      "(439738, 53)\n",
      "(188460, 53)\n"
     ]
    }
   ],
   "source": [
    "# premenných, na ktoré rozdelíme celý náš súbor údajov\n",
    "# rozdelíme ich pomocou train_test_split, ktorý rozdelí údaje podľa požadovanej veľkosti na školenie a testovanie,\n",
    "# v našom prípade 3: 7, takže 30% bude v testovacej sade a 70% v tréningovej sade\n",
    "# random_state zabezpečí, že údaje sa nebudú zdieľať rovnomerne pri viacerých spusteniach\n",
    "X_train, X_test, y_train, y_test = train_test_split(predictor, target, test_size = 0.3, random_state = 56)\n",
    "#vypíšeme si ako sú tvarované premenné, čísla reprezentujú (záznamy, triedy) resp. (riadky, stĺpce)\n",
    "print(X_train.shape)\n",
    "print(X_test.shape)"
   ]
  },
  {
   "cell_type": "code",
   "execution_count": 18,
   "metadata": {},
   "outputs": [
    {
     "name": "stdout",
     "output_type": "stream",
     "text": [
      "  (0, 1)\t1.0\n",
      "  (0, 7)\t1.0\n",
      "  (0, 10)\t1.0\n",
      "  (0, 12)\t1.0\n",
      "  (0, 18)\t1.0\n",
      "  (0, 21)\t1.0\n",
      "  (0, 48)\t1.0\n",
      "  (0, 50)\t0.7469473037910446\n",
      "  (0, 51)\t0.2040816326530612\n"
     ]
    }
   ],
   "source": [
    "# Normalizacia cisel\n",
    "# normalizacia sa robi hlavne ked sa hodnoty v datasete velmi lisia, ako v nasom pripade, mame hodnoty napr. 1007.7 a 0.6\n",
    "#  Potebujeme pouzit Skalovaciu  metriku ktora vie spracovavat sparse data, ktore nam OneHotEncoder pripravil\n",
    "\n",
    "scaler = MaxAbsScaler()\n",
    "#fit_transform používame na trénovacie množiny aby sme škálovali trénovacie dáta a naučili sa škláovacie parametre pre dáta\n",
    "#tieto naučené parametre sa následne využijú na škálovanie testovacích dát\n",
    "#metóda fit vypočíta priemernú hodnotu a rozptyl dát. transform následne prepočítava dáta podľa priemeru a rozptylu\n",
    "X_train = scaler.fit_transform(X_train) # normalizacia cisel v premennej X_train\n",
    "X_test = scaler.fit_transform(X_test) # normalizacia cisel v premennej X_test\n",
    "y_train = scaler.fit_transform(y_train) # normalizacia cisel v premennej y_train\n",
    "y_test = scaler.fit_transform(y_test) # normalizacia cisel v premennej y_test\n",
    "\n",
    "# ukazka vysledku normalizacie cisel\n",
    "print(X_train[0]) # ukazka nulteho riadku v premennej X_train"
   ]
  },
  {
   "cell_type": "markdown",
   "metadata": {},
   "source": [
    "### Konštrukcia modelu\n",
    "<ul>\n",
    "    <li> Špecifikácia vstupného tvaru </li>\n",
    " </ul>\n",
    " \n",
    "###  Kompilácia modelu\n",
    "Pred trénovaním modelu je potreba konfigurovat učiaci sa proces, pomocou kompilačnej metódy. K tomu budeme potrebovať.\n",
    "<ul>\n",
    "    <li> Optimizér <ul>\n",
    "    <li> Loss function </li>\n",
    "    <li> Zoznam metrík V prípade kategorického modelu ako nášho je accuracy (presnosť) </li>\n",
    "    <li> </li>\n",
    "</ul>\n"
   ]
  },
  {
   "cell_type": "code",
   "execution_count": 19,
   "metadata": {},
   "outputs": [
    {
     "data": {
      "text/plain": [
       "(439738, 53)"
      ]
     },
     "execution_count": 19,
     "metadata": {},
     "output_type": "execute_result"
    }
   ],
   "source": [
    "#  podla tvaru X train zistime ako bude vyzerat vstupna vrstva, respektive kolko fearures mame\n",
    "# vidime, ze mame treningovu  maticu o dlyke 439,738 s 53 roznymi features\n",
    "X_train.shape"
   ]
  },
  {
   "cell_type": "code",
   "execution_count": 22,
   "metadata": {},
   "outputs": [
    {
     "name": "stdout",
     "output_type": "stream",
     "text": [
      "Model: \"sequential_1\"\n",
      "_________________________________________________________________\n",
      "Layer (type)                 Output Shape              Param #   \n",
      "=================================================================\n",
      "dense_4 (Dense)              (None, 53)                2862      \n",
      "_________________________________________________________________\n",
      "dense_5 (Dense)              (None, 35)                1890      \n",
      "_________________________________________________________________\n",
      "dense_6 (Dense)              (None, 23)                828       \n",
      "_________________________________________________________________\n",
      "dense_7 (Dense)              (None, 1)                 24        \n",
      "=================================================================\n",
      "Total params: 5,604\n",
      "Trainable params: 5,604\n",
      "Non-trainable params: 0\n",
      "_________________________________________________________________\n"
     ]
    }
   ],
   "source": [
    "# https://glassboxmedicine.com/2019/01/17/introduction-to-neural-networks/\n",
    "# https://www.researchgate.net/post/How-to-decide-the-number-of-hidden-layers-and-nodes-in-a-hidden-layer\n",
    "\n",
    "# Pridanie zvoleneho modelu\n",
    "# Dense - vykonáva operáciu outuput = activation(dot(input, kernel)+bias), jedná sa o model plne zapojeného layeru/vrstvy\n",
    "# prvé číslo alebo units je počet neurónov ktoré sa v danej vrstve používa\n",
    "\n",
    "# Kategorické: Predpovedanie viacerých štítkov z viacerých tried\n",
    "# Napr. predpovedanie prítomnosti zvierat na obrázku\n",
    "# Výsledná vrstva neurónovej siete bude mať jeden neurón pre každú z tried a budú vracať hodnotu medzi 0 a 1, ktorú možno odvodiť ako pravdepodobnú.\n",
    "# Aby sme pochopili presnosť predikcie, porovnáva sa každý výstup s jeho zodpovedajúcou skutočnou\n",
    "# hodnotou. Ak sa v stĺpci so skutočnou hodnotou zobrazí 1, v údajoch sa nachádza kategória,\n",
    "# ktorej zodpovedá, inak sa zobrazí 0.\n",
    "# https://towardsdatascience.com/deep-learning-which-loss-and-activation-functions-should-i-use-ac02f1c56aa8\n",
    "\n",
    "# pre tento pripad je vhodna finalna aktivacna funkcia Sigmoin a loss funkcia Binary Cross Entropy\n",
    "\n",
    "# https://keras.io/api/layers/activations/\n",
    "# https://www.youtube.com/watch?v=bqBRET7tbiQ&t=996s\n",
    "# Odporucanie 1-3 hidden layers, zvycajne 2\n",
    "# pocet neuronov by mal byt medzi poctom input layer a output layers\n",
    "\n",
    "model = Sequential([\n",
    "    Dense(53, activation='relu', input_shape=[X_train.shape[1]]),\n",
    "    Dense(35, activation='relu'),\n",
    "    Dense(23, activation='sigmoid'),\n",
    "    Dense(1)\n",
    "])\n",
    "\n",
    "# zhrnutie modelu keras\n",
    "model.summary()"
   ]
  },
  {
   "cell_type": "code",
   "execution_count": 23,
   "metadata": {},
   "outputs": [
    {
     "name": "stdout",
     "output_type": "stream",
     "text": [
      "Epoch 1/50\n",
      "102/102 [==============================] - 7s 41ms/step - loss: 0.8833 - accuracy: 0.5000 - val_loss: 0.6943 - val_accuracy: 0.5000\n",
      "Epoch 2/50\n",
      "102/102 [==============================] - 5s 38ms/step - loss: 0.6941 - accuracy: 0.5000 - val_loss: 0.6937 - val_accuracy: 0.5000\n",
      "Epoch 3/50\n",
      "102/102 [==============================] - 5s 44ms/step - loss: 0.6936 - accuracy: 0.5000 - val_loss: 0.6934 - val_accuracy: 0.5000\n",
      "Epoch 4/50\n",
      "102/102 [==============================] - 5s 38ms/step - loss: 0.6934 - accuracy: 0.5000 - val_loss: 0.6933 - val_accuracy: 0.5000\n",
      "Epoch 5/50\n",
      "102/102 [==============================] - 5s 38ms/step - loss: 0.6933 - accuracy: 0.5000 - val_loss: 0.6933 - val_accuracy: 0.5000\n",
      "Epoch 6/50\n",
      "102/102 [==============================] - 5s 38ms/step - loss: 0.6933 - accuracy: 0.5000 - val_loss: 0.6932 - val_accuracy: 0.5000\n",
      "Epoch 7/50\n",
      "102/102 [==============================] - 5s 39ms/step - loss: 0.6932 - accuracy: 0.5000 - val_loss: 0.6932 - val_accuracy: 0.5000\n",
      "Epoch 8/50\n",
      "102/102 [==============================] - 5s 40ms/step - loss: 0.6932 - accuracy: 0.5000 - val_loss: 0.6932 - val_accuracy: 0.5000\n",
      "Epoch 9/50\n",
      "102/102 [==============================] - 5s 44ms/step - loss: 0.6932 - accuracy: 0.5000 - val_loss: 0.6932 - val_accuracy: 0.5000\n",
      "Epoch 10/50\n",
      "102/102 [==============================] - 5s 43ms/step - loss: 0.6932 - accuracy: 0.5000 - val_loss: 0.6932 - val_accuracy: 0.5000\n",
      "Epoch 11/50\n",
      "102/102 [==============================] - 6s 44ms/step - loss: 0.6932 - accuracy: 0.5000 - val_loss: 0.6932 - val_accuracy: 0.5000\n",
      "Epoch 12/50\n",
      "102/102 [==============================] - 5s 43ms/step - loss: 0.6932 - accuracy: 0.5000 - val_loss: 0.6932 - val_accuracy: 0.5000\n",
      "Epoch 13/50\n",
      "102/102 [==============================] - 5s 47ms/step - loss: 0.6932 - accuracy: 0.5000 - val_loss: 0.6932 - val_accuracy: 0.5000\n",
      "Epoch 14/50\n",
      "102/102 [==============================] - 5s 45ms/step - loss: 0.6932 - accuracy: 0.5000 - val_loss: 0.6932 - val_accuracy: 0.5000\n",
      "Epoch 15/50\n",
      "102/102 [==============================] - 6s 48ms/step - loss: 0.6932 - accuracy: 0.5000 - val_loss: 0.6932 - val_accuracy: 0.5000\n",
      "Epoch 16/50\n",
      "102/102 [==============================] - 5s 46ms/step - loss: 0.6932 - accuracy: 0.5000 - val_loss: 0.6932 - val_accuracy: 0.5000\n",
      "Epoch 17/50\n",
      "102/102 [==============================] - 6s 47ms/step - loss: 0.6932 - accuracy: 0.5000 - val_loss: 0.6932 - val_accuracy: 0.5000\n",
      "Epoch 18/50\n",
      "102/102 [==============================] - 6s 52ms/step - loss: 0.6932 - accuracy: 0.5000 - val_loss: 0.6932 - val_accuracy: 0.5000\n",
      "Epoch 19/50\n",
      "102/102 [==============================] - 6s 47ms/step - loss: 0.6932 - accuracy: 0.5000 - val_loss: 0.6932 - val_accuracy: 0.5000\n",
      "Epoch 20/50\n",
      "102/102 [==============================] - 6s 52ms/step - loss: 0.6932 - accuracy: 0.5000 - val_loss: 0.6932 - val_accuracy: 0.5000\n",
      "Epoch 21/50\n",
      "102/102 [==============================] - 5s 43ms/step - loss: 0.6932 - accuracy: 0.5000 - val_loss: 0.6932 - val_accuracy: 0.5000\n",
      "Epoch 22/50\n",
      "102/102 [==============================] - 5s 43ms/step - loss: 0.6932 - accuracy: 0.5000 - val_loss: 0.6932 - val_accuracy: 0.5000\n",
      "Epoch 23/50\n",
      "102/102 [==============================] - 6s 47ms/step - loss: 0.6932 - accuracy: 0.5000 - val_loss: 0.6932 - val_accuracy: 0.5000\n",
      "Epoch 24/50\n",
      "102/102 [==============================] - 7s 53ms/step - loss: 0.6932 - accuracy: 0.5000 - val_loss: 0.6932 - val_accuracy: 0.5000\n",
      "Epoch 25/50\n",
      "102/102 [==============================] - 5s 43ms/step - loss: 0.6932 - accuracy: 0.5000 - val_loss: 0.6932 - val_accuracy: 0.5000\n",
      "Epoch 26/50\n",
      "102/102 [==============================] - 5s 42ms/step - loss: 0.6932 - accuracy: 0.5000 - val_loss: 0.6932 - val_accuracy: 0.5000\n",
      "Epoch 27/50\n",
      "102/102 [==============================] - 5s 42ms/step - loss: 0.6932 - accuracy: 0.5000 - val_loss: 0.6932 - val_accuracy: 0.5000\n",
      "Epoch 28/50\n",
      "102/102 [==============================] - 6s 49ms/step - loss: 0.6932 - accuracy: 0.5000 - val_loss: 0.6932 - val_accuracy: 0.5000\n",
      "Epoch 29/50\n",
      "102/102 [==============================] - 5s 43ms/step - loss: 0.6932 - accuracy: 0.5000 - val_loss: 0.6932 - val_accuracy: 0.5000\n",
      "Epoch 30/50\n",
      "102/102 [==============================] - 5s 42ms/step - loss: 0.6932 - accuracy: 0.5000 - val_loss: 0.6932 - val_accuracy: 0.5000\n",
      "Epoch 31/50\n",
      "102/102 [==============================] - 5s 42ms/step - loss: 0.6932 - accuracy: 0.5000 - val_loss: 0.6932 - val_accuracy: 0.5000\n",
      "Epoch 32/50\n",
      "102/102 [==============================] - 5s 43ms/step - loss: 0.6932 - accuracy: 0.5000 - val_loss: 0.6932 - val_accuracy: 0.5000\n",
      "Epoch 33/50\n",
      "102/102 [==============================] - 5s 45ms/step - loss: 0.6932 - accuracy: 0.5000 - val_loss: 0.6932 - val_accuracy: 0.5000\n",
      "Epoch 34/50\n",
      "102/102 [==============================] - 6s 48ms/step - loss: 0.6932 - accuracy: 0.5000 - val_loss: 0.6932 - val_accuracy: 0.5000\n",
      "Epoch 35/50\n",
      "102/102 [==============================] - 5s 46ms/step - loss: 0.6932 - accuracy: 0.5000 - val_loss: 0.6932 - val_accuracy: 0.5000\n",
      "Epoch 36/50\n",
      "102/102 [==============================] - 5s 45ms/step - loss: 0.6932 - accuracy: 0.5000 - val_loss: 0.6932 - val_accuracy: 0.5000\n",
      "Epoch 37/50\n",
      "102/102 [==============================] - 5s 44ms/step - loss: 0.6932 - accuracy: 0.5000 - val_loss: 0.6932 - val_accuracy: 0.5000\n",
      "Epoch 38/50\n",
      "102/102 [==============================] - 5s 42ms/step - loss: 0.6932 - accuracy: 0.5000 - val_loss: 0.6932 - val_accuracy: 0.5000\n",
      "Epoch 39/50\n",
      "102/102 [==============================] - 5s 45ms/step - loss: 0.6932 - accuracy: 0.5000 - val_loss: 0.6932 - val_accuracy: 0.5000\n",
      "Epoch 40/50\n",
      "102/102 [==============================] - 5s 45ms/step - loss: 0.6932 - accuracy: 0.5000 - val_loss: 0.6932 - val_accuracy: 0.5000\n",
      "Epoch 41/50\n",
      "102/102 [==============================] - 5s 46ms/step - loss: 0.6932 - accuracy: 0.5000 - val_loss: 0.6932 - val_accuracy: 0.5000\n",
      "Epoch 42/50\n",
      "102/102 [==============================] - 5s 45ms/step - loss: 0.6932 - accuracy: 0.5000 - val_loss: 0.6932 - val_accuracy: 0.5000\n",
      "Epoch 43/50\n",
      "102/102 [==============================] - 5s 43ms/step - loss: 0.6932 - accuracy: 0.5000 - val_loss: 0.6932 - val_accuracy: 0.5000\n",
      "Epoch 44/50\n",
      "102/102 [==============================] - 5s 43ms/step - loss: 0.6932 - accuracy: 0.5000 - val_loss: 0.6932 - val_accuracy: 0.5000\n",
      "Epoch 45/50\n",
      "102/102 [==============================] - 6s 57ms/step - loss: 0.6932 - accuracy: 0.5000 - val_loss: 0.6932 - val_accuracy: 0.5000\n",
      "Epoch 46/50\n",
      "102/102 [==============================] - 5s 47ms/step - loss: 0.6932 - accuracy: 0.5000 - val_loss: 0.6932 - val_accuracy: 0.5000\n",
      "Epoch 47/50\n",
      "102/102 [==============================] - 5s 42ms/step - loss: 0.6931 - accuracy: 0.5000 - val_loss: 0.6932 - val_accuracy: 0.5000\n",
      "Epoch 48/50\n",
      "102/102 [==============================] - 5s 44ms/step - loss: 0.6931 - accuracy: 0.5000 - val_loss: 0.6931 - val_accuracy: 0.5000\n",
      "Epoch 49/50\n",
      "102/102 [==============================] - 6s 49ms/step - loss: 0.6931 - accuracy: 0.5000 - val_loss: 0.6931 - val_accuracy: 0.5000\n",
      "Epoch 50/50\n",
      "102/102 [==============================] - 6s 54ms/step - loss: 0.6931 - accuracy: 0.5000 - val_loss: 0.6931 - val_accuracy: 0.5000\n",
      "13742/13742 [==============================] - 25s 2ms/step - loss: 0.6933 - accuracy: 0.5000\n"
     ]
    }
   ],
   "source": [
    "# https://towardsdatascience.com/deep-learning-which-loss-and-activation-functions-should-i-use-ac02f1c56aa8\n",
    "\n",
    "# pre tento pripad je vhodna finalna aktivacna funkcia Sigmoin a loss funkcia Binary Cross Entropy\n",
    "# https://www.tensorflow.org/api_docs/python/tf/keras/losses/BinaryCrossentropy\n",
    "model.compile(optimizer = 'adam', loss = 'binary_crossentropy', metrics=['accuracy'])\n",
    "\n",
    "# trenovanie modelu keras\n",
    "# X_train a y_train su nase data\n",
    "# validation_split - hodnota medzi 0 a 1, model oddeluje tuto cast trenovacich dat, nebude ich trenovat a na konci kazdej\n",
    "# iteracie vyhodnoti stratu a akekolvek modelove metriky\n",
    "# epochs - pocet iteracii\n",
    "# batch_size - definuje pocet vzoriek, ktore sa budu sirit prostrednictvom siete, podla X_train zistit vypocet delitelov cisla\n",
    "# verbose - hodnota moze byt 0, 1 alebo 2, ovplyvnuje detailnost vystupu ktoru vidime nizsie \n",
    "history = model.fit(X_train, y_train, validation_data=(X_test, y_test), epochs = 50, batch_size = 4332)\n",
    "# evaluate the keras model\n",
    "accuracy = model.evaluate(X_train, y_train)\n",
    "#print(accuracy*100)"
   ]
  },
  {
   "cell_type": "code",
   "execution_count": 24,
   "metadata": {},
   "outputs": [
    {
     "name": "stdout",
     "output_type": "stream",
     "text": [
      "5890/5890 [==============================] - 15s 2ms/step - loss: 0.6931 - accuracy: 0.5000\n",
      "Presnost modelu je:  50.0 %\n",
      "Pri strate:  69.31 %\n"
     ]
    }
   ],
   "source": [
    "y_pred = model.predict(X_test)\n",
    "# uspesnost neuronovej siete\n",
    "score = model.evaluate(X_test, y_test, verbose=1)\n",
    "print('Presnost modelu je: ',str(round(score[1]*100,2)), '%')\n",
    "print('Pri strate: ',str(round(score[0]*100,2)), '%')"
   ]
  },
  {
   "cell_type": "markdown",
   "metadata": {},
   "source": [
    "## 6. Evaluacia modelu"
   ]
  },
  {
   "cell_type": "code",
   "execution_count": 25,
   "metadata": {},
   "outputs": [
    {
     "name": "stdout",
     "output_type": "stream",
     "text": [
      "dict_keys(['loss', 'accuracy', 'val_loss', 'val_accuracy'])\n"
     ]
    },
    {
     "data": {
      "image/png": "[encoded data removed]",
      "text/plain": [
       "<Figure size 432x288 with 1 Axes>"
      ]
     },
     "metadata": {
      "needs_background": "light"
     },
     "output_type": "display_data"
    }
   ],
   "source": [
    "# https://machinelearningmastery.com/display-deep-learning-model-training-history-in-keras/\n",
    "print(history.history.keys())\n",
    "# Graf zobrazujuci presnost modelu\n",
    "plt.plot(history.history['accuracy'])\n",
    "plt.plot(history.history['val_accuracy'])\n",
    "plt.title('Presnost modelu')\n",
    "plt.ylabel('Presnost')\n",
    "plt.xlabel('Epoch')\n",
    "plt.legend(['testovacia', 'trenovacia'])\n",
    "plt.show()"
   ]
  },
  {
   "cell_type": "code",
   "execution_count": 26,
   "metadata": {},
   "outputs": [
    {
     "data": {
      "image/png": "[encoded data removed]",
      "text/plain": [
       "<Figure size 432x288 with 1 Axes>"
      ]
     },
     "metadata": {
      "needs_background": "light"
     },
     "output_type": "display_data"
    }
   ],
   "source": [
    "# Graf zobrazujuci chybovost modelu\n",
    "plt.plot(history.history['loss'])\n",
    "plt.plot(history.history['val_loss'])\n",
    "plt.title('Chyba modelu')\n",
    "plt.ylabel('Chyba')\n",
    "plt.xlabel('Epoch')\n",
    "plt.legend(['testovacia', 'trenovacia'])\n",
    "plt.show()"
   ]
  },
  {
   "cell_type": "code",
   "execution_count": null,
   "metadata": {},
   "outputs": [],
   "source": []
  },
  {
   "cell_type": "code",
   "execution_count": null,
   "metadata": {},
   "outputs": [],
   "source": []
  },
  {
   "cell_type": "code",
   "execution_count": null,
   "metadata": {},
   "outputs": [],
   "source": []
  }
 ],
 "metadata": {
  "kernelspec": {
   "display_name": "Python 3",
   "language": "python",
   "name": "python3"
  },
  "language_info": {
   "codemirror_mode": {
    "name": "ipython",
    "version": 3
   },
   "file_extension": ".py",
   "mimetype": "text/x-python",
   "name": "python",
   "nbconvert_exporter": "python",
   "pygments_lexer": "ipython3",
   "version": "3.8.8"
  }
 },
 "nbformat": 4,
 "nbformat_minor": 4
}
