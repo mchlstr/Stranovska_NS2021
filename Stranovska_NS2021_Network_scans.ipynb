{
 "cells": [
  {
   "cell_type": "code",
   "execution_count": 2,
   "metadata": {},
   "outputs": [],
   "source": [
    "# 1. Pick a dataset to work with. \n",
    "# 2. Clone / download the dataset\n",
    "# 3. Undesrand and describe what the dataset does and what is the goal which is necessary to accomplish\n",
    "# 4. Divide the data to the training and testing set. \n",
    "#    At start lets start with istribution 60-40%. This ratio should be tweaked with to find and optimal solution\n",
    "# 5. Pick right activation function and test which one is the most suitable for the problem in hand\n",
    "# 6. Do a proper visualization od the data we gathered while whole process:\n",
    "# 6a. Error\n",
    "# 6b. Accuracy\n",
    "# 6c. Weights (? - Depends on the neural network and it complexity)\n",
    "# 6d. Struncture of the network (either visual or the Keras print visualization of the neural network thru \"description\")"
   ]
  },
  {
   "cell_type": "code",
   "execution_count": 3,
   "metadata": {},
   "outputs": [],
   "source": [
    "# Dataset from https://www.kaggle.com/ymirsky/network-attack-dataset-kitsune\n",
    "# This dataset contains a series of the network attacks and classification of either attack occuring or not\n",
    "# It contains 9 different scenarios of attack captured by the wireshark (network traffic analyzer)\n",
    "# and classificaion csv describing if the captured packet is part of the attack or not"
   ]
  },
  {
   "cell_type": "code",
   "execution_count": 6,
   "metadata": {},
   "outputs": [],
   "source": [
<<<<<<< HEAD
    "# importing keras library to work with the Neural Networks design\n",
    "import keras\n",
    "# importing padnas to work with files / csv-s containing the datasets\n",
    "import pandas as pd\n",
    "# importing numpy lib for faster manipulation with data supporting math \n",
    "import numpy as np\n",
    "\n",
    "# lets prepare both of them and  later we will see which one is better for visualization of the data\n",
    "import seaborn as sb\n",
    "import matplotlib as plt\n"
=======
    "import keras"
>>>>>>> parent of 3fd1cff (Adding a comentaries to what need to be done with the datasets, which results wants to be achieved, with more detailed flow of the program / analysis)
   ]
  },
  {
   "cell_type": "code",
   "execution_count": null,
   "metadata": {},
   "outputs": [],
   "source": []
  }
 ],
 "metadata": {
  "kernelspec": {
   "display_name": "Python 3",
   "language": "python",
   "name": "python3"
  },
  "language_info": {
   "codemirror_mode": {
    "name": "ipython",
    "version": 3
   },
   "file_extension": ".py",
   "mimetype": "text/x-python",
   "name": "python",
   "nbconvert_exporter": "python",
   "pygments_lexer": "ipython3",
   "version": "3.8.5"
  }
 },
 "nbformat": 4,
 "nbformat_minor": 4
}
