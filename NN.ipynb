{
 "cells": [
  {
   "cell_type": "code",
   "execution_count": null,
   "metadata": {},
   "outputs": [],
   "source": [
    "# importing keras library to work with the Neural Networks design\n",
    "import keras\n",
    "# importing padnas to work with files / csv-s containing the datasets\n",
    "import pandas as pd\n",
    "# importing numpy lib for faster manipulation with data supporting math \n",
    "import numpy as np\n",
    "\n",
    "# lets prepare both of them and  later we will see which one is better for visualization of the data\n",
    "import seaborn as sns\n",
    "import matplotlib.pyplot as plt\n",
    "%matplotlib inline\n",
    "\n",
    "# importing the lib to help to split testing and training data which will be later used\n",
    "from sklearn.model_selection import train_test_split\n",
    "from sklearn import metrics\n",
    "import sklearn.preprocessing\n",
    "\n",
    "from keras.models import Model\n",
    "from keras.layers import Input, Dense, Concatenate, Reshape, Dropout\n",
    "from keras.layers.embeddings import Embedding\n",
    "\n",
    "from sklearn.preprocessing import StandardScaler, OneHotEncoder, LabelEncoder\n",
    "from sklearn.compose import make_column_transformer\n",
    "# nainportovanie z kniznice sklearn MinMaxScaler, ktory transformuje prvky skalovanim jednotlivych prvkov na dany rozsah \n",
    "from sklearn.preprocessing import MinMaxScaler\n",
    "\n",
    "\n",
    "from keras.utils import np_utils \n",
    "from keras.utils import to_categorical\n",
    "\n",
    "# nainportovanie z kniznice keras Sequential, ktory sa pouziva na vytvorenie modelu ucenia pri ktorom sa vytvaraju instancie\n",
    "# triedy Sequential a pridavaju/vytvaraju sa do nej vrstvy modelu\n",
    "from keras.models import Sequential \n",
    "# nainportovanie z kniznice keras Dense\n",
    "#pomocou Dense su definovane plne spojene vrstvy, kde ako prvy argument sa zadava pocet neuronov alebo uzlov vo vrstve a pomocou\n",
    "# aktivacneho argumentu urcit aktivacnu funkciu\n",
    "from keras.layers import Dense \n",
    "%matplotlib inline\n",
    "%pylab inline"
   ]
  },
  {
   "cell_type": "code",
   "execution_count": null,
   "metadata": {},
   "outputs": [],
   "source": [
    "# načítanie datasetu do dataframe z cvs file\n",
    "# povodný súbor pochádza z https://www.kaggle.com/murderaccountability/homicide-reports\n",
    "# a obsahuje správy o vraždách za roky 1990 - 2014 z rôznych štátov USA\n",
    "# pre lepsie pracovanie s datami a moznosti uploadovania na github sa velkost datasetu znizila o 10 rokov\n",
    "dataset = pd.read_csv(\"dataset-1990-2014.csv\")"
   ]
  },
  {
   "cell_type": "code",
   "execution_count": null,
   "metadata": {},
   "outputs": [],
   "source": [
    "# zobrazte prvých 5 riadkov pre rýchly náhľad ako dáta vyzerajú\n",
    "dataset.head()"
   ]
  },
  {
   "cell_type": "code",
   "execution_count": null,
   "metadata": {},
   "outputs": [],
   "source": [
    "### Vlastnosti datasetu\n",
    "<ol>\n",
    "    <li>Record ID: Číslo záznamu vraždy </li>\n",
    "    <li>Agency Code: Kódové meno zastupiteľstva, ktorá vyšetrovala daný zločin. </li>\n",
    "    <li>Agency Name: Plné meno zastupiteľstva, ktorá vyšetrovala daný zločin. </li>\n",
    "    <li>Agency Type: Typ zastupiteľstva: a. 'Municipal Police', b. 'County Police', c. 'State Police', d. 'Sheriff', e. 'Special Police', f. 'Regional Police', g. 'Tribal Police'</li>\n",
    "    <li>City: Mesto, v ktorom sa stal zločin. </li>\n",
    "    <li>State: Štát, v ktotom sa zločin odohral. </li>\n",
    "    <li>Year: Rok spáchaného zločinu, z časového obdobia od roku 1980 - 2014 </li>\n",
    "    <li>Month: Mesiac, v ktorom sa zločin stal. Formát je January - December  </li>\n",
    "    <li>Incident: Číslená hodnota koľko zločinov sa stalo za dané obobie. Napríklad za Marec 1980 bola spáchaná vražda v Aliaške druhý krát. Hodnota bude 2. </li>\n",
    "    <li>Crime type: Klasfikuje čin do dvoch kategórií: 'Murder or Manslaughter' == 'Vražda alebo Zabitie' a 'Manslaughter by Negligence' == 'Zabitie z nedbanlivosti' </li>\n",
    "    <li>Crime Solved: Klasifikuje, či bol zločiť vyrierený. Bud 'Yes' == 'Áno' alebo 'No' == 'Nie' </li>\n",
    "    <li>Victim Sex: Klasifikácia pohlavia obete. Rozdelenie do 3 kategórií: a. 'Man' == 'Muž', b. 'Female' == 'Žena', c.'Unknown' == 'Neidentifikované' </li>\n",
    "    <li>Victim Age: Vek obete. </li>\n",
    "    <li>Victim Race: Krasifikácia posla rasy obete. Rozdenený do 5 kategórií. a.'Native American/Alaska Native' b. 'White' c.'Black' d. 'Unknown' e. 'Asian/Pacific Islander' </li>\n",
    "    <li>Victim Ethnicity: Kategorizácia etnickej príslušnosti do 3 kategórií. a. 'Unknown', b. 'Not Hispanic', c. 'Hispanic'  </li>\n",
    "    <li>Perpetrator Sex: Klasifikácia pohlavia páchteľa. Rozdelenie do 3 kategórií: a. 'Man' == 'Muž', b. 'Female' == 'Žena', c. 'Unknown' == 'Neidentifikované' </li>\n",
    "    <li>Perpetrator Age:  Vek páchateľa. Ak vek páchateľa je neznámy, záznam obsahuje nulu. </li>\n",
    "    <li>Perpetrator Race: Krasifikácia posla rasy páchateľa. Rozdenený do 5 kategórií. a.'Native American/Alaska Native' b. 'White' c.'Black' d. 'Unknown' e. 'Asian/Pacific Islander' </li>\n",
    "    <li>Perpetrator Ethnicity: Kategorizácia etnickej príslušnosti do 3 kategórií. a. 'Unknown', b. 'Not Hispanic', c. 'Hispanic' </li>\n",
    "    <li>Relationship: Klasifikikácia vsťahu medzi obeťou a páchateľom. 28 rôznych kategórií. </li>\n",
    "    <li>Weapon: Klasifikácia podľa zbrane, ktorá bola použitá pri čine. 17 rôznych kategórií. </li>\n",
    "    <li>Victim Count: Počet obetí. </li>\n",
    "    <li>Perpetrator Count: Počet páchateľov. </li>\n",
    "    <li>Record Source: Klasifikácia zdroja informácií. Informácie pochádzajú z 2 zdrojov: a. 'FBI' == 'Federal Bureau of Investigation' b. 'FIOA' == 'Freedom of Information Act' </li>\n",
    "</ol>"
   ]
  }
 ],
 "metadata": {
  "kernelspec": {
   "display_name": "Python 3",
   "language": "python",
   "name": "python3"
  },
  "language_info": {
   "codemirror_mode": {
    "name": "ipython",
    "version": 3
   },
   "file_extension": ".py",
   "mimetype": "text/x-python",
   "name": "python",
   "nbconvert_exporter": "python",
   "pygments_lexer": "ipython3",
   "version": "3.8.8"
  }
 },
 "nbformat": 4,
 "nbformat_minor": 4
}
